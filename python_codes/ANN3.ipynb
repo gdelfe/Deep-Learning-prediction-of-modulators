{
 "cells": [
  {
   "cell_type": "code",
   "execution_count": 1,
   "metadata": {},
   "outputs": [
    {
     "data": {
      "text/plain": [
       "'/home/bijanadmin/Desktop/DL-modulators'"
      ]
     },
     "execution_count": 1,
     "metadata": {},
     "output_type": "execute_result"
    }
   ],
   "source": [
    "pwd"
   ]
  },
  {
   "cell_type": "code",
   "execution_count": 10,
   "metadata": {},
   "outputs": [],
   "source": [
    "%matplotlib inline\n",
    "import numpy as np\n",
    "import torch\n",
    "from torch import nn, optim\n",
    "from torchvision import transforms\n",
    "import torch.nn.functional as F\n",
    "import matplotlib.pyplot as plt\n",
    "import os"
   ]
  },
  {
   "cell_type": "markdown",
   "metadata": {},
   "source": [
    "### Load all the HIT trials in a given Session (all electrodes)"
   ]
  },
  {
   "cell_type": "code",
   "execution_count": 2,
   "metadata": {
    "scrolled": true
   },
   "outputs": [
    {
     "name": "stdout",
     "output_type": "stream",
     "text": [
      "Channel:  2\n",
      "(100, 61, 127)\n",
      "Channel:  3\n",
      "(100, 61, 191)\n",
      "Channel:  4\n",
      "(100, 61, 256)\n",
      "Channel:  5\n",
      "(100, 61, 321)\n",
      "Channel:  6\n",
      "(100, 61, 386)\n",
      "Channel:  7\n",
      "(100, 61, 451)\n",
      "Channel:  8\n",
      "(100, 61, 516)\n",
      "Channel:  9\n",
      "(100, 61, 581)\n",
      "Channel:  10\n",
      "(100, 61, 645)\n",
      "Channel:  11\n",
      "(100, 61, 709)\n",
      "Channel:  12\n",
      "(100, 61, 774)\n",
      "Channel:  13\n",
      "(100, 61, 838)\n",
      "Channel:  14\n",
      "(100, 61, 902)\n",
      "Channel:  15\n",
      "(100, 61, 966)\n",
      "Channel:  16\n",
      "(100, 61, 1030)\n",
      "Channel:  17\n",
      "(100, 61, 1093)\n",
      "Channel:  18\n",
      "(100, 61, 1158)\n",
      "Channel:  19\n",
      "(100, 61, 1223)\n",
      "Channel:  20\n",
      "(100, 61, 1288)\n",
      "Channel:  21\n",
      "(100, 61, 1353)\n",
      "Channel:  22\n",
      "(100, 61, 1418)\n",
      "Channel:  23\n",
      "(100, 61, 1483)\n",
      "Channel:  24\n",
      "(100, 61, 1547)\n",
      "Channel:  25\n",
      "(100, 61, 1612)\n",
      "Channel:  26\n",
      "(100, 61, 1677)\n",
      "Channel:  27\n",
      "(100, 61, 1741)\n",
      "Channel:  28\n",
      "(100, 61, 1806)\n",
      "Channel:  29\n",
      "(100, 61, 1871)\n",
      "Channel:  30\n",
      "(100, 61, 1934)\n",
      "Channel:  31\n",
      "(100, 61, 1998)\n",
      "Channel:  32\n",
      "(100, 61, 2063)\n",
      "Channel:  33\n",
      "(100, 61, 2124)\n",
      "Channel:  34\n",
      "(100, 61, 2189)\n",
      "Channel:  35\n",
      "(100, 61, 2254)\n",
      "Channel:  36\n",
      "(100, 61, 2318)\n",
      "Channel:  37\n",
      "(100, 61, 2383)\n",
      "Channel:  38\n",
      "(100, 61, 2447)\n",
      "Channel:  39\n",
      "(100, 61, 2512)\n",
      "Channel:  40\n",
      "(100, 61, 2577)\n",
      "Channel:  41\n",
      "(100, 61, 2642)\n",
      "Channel:  42\n",
      "(100, 61, 2707)\n",
      "Channel:  43\n",
      "(100, 61, 2772)\n",
      "Channel:  44\n",
      "(100, 61, 2836)\n",
      "Channel:  45\n",
      "(100, 61, 2901)\n",
      "Channel:  46\n",
      "(100, 61, 2966)\n",
      "Channel:  47\n",
      "(100, 61, 3027)\n",
      "Channel:  48\n",
      "(100, 61, 3089)\n",
      "Channel:  49\n",
      "(100, 61, 3153)\n",
      "Channel:  50\n",
      "(100, 61, 3217)\n",
      "Channel:  51\n",
      "(100, 61, 3281)\n",
      "Channel:  52\n",
      "(100, 61, 3345)\n"
     ]
    }
   ],
   "source": [
    "# PATH DIRECTORY \n",
    "Sess = 15\n",
    "Ch = 1\n",
    "\n",
    "################\n",
    "# CHANNEL 1 ###\n",
    "###############\n",
    "\n",
    "# name directory\n",
    "pathHit = 'Data/Hits/1_Subject/{}_Sess/{}_Ch/1_Subject_{}_Sess_{}_Ch'.format(Sess,Ch,Sess,Ch)\n",
    "# print(pathHit)\n",
    "# name files\n",
    "fnHit = os.path.join(pathHit,\"1_Subject_15_Sess_{}_Ch_{}_hit.txt\".format(Ch,1)) # name file hit (first one)\n",
    "fnHitLabels = os.path.join(pathHit,\"1_Subject_15_Sess_{}_Ch_Hits_index.txt\".format(Ch)) # name file with labels index\n",
    "\n",
    "# load hit matrix and label vector\n",
    "tensor_hit = np.loadtxt(fnHit,dtype='f',delimiter='\\t') # load hit matrix\n",
    "labelsHit = np.loadtxt(fnHitLabels,dtype='l',delimiter='\\t') # load labels vector\n",
    "\n",
    "#     #plt.imshow(np.flipud(tensor_hit.transpose()))\n",
    "# for all other indexes\n",
    "for indx in range(2,len(labelsHit)+1):\n",
    "    fnHit = os.path.join(pathHit,\"1_Subject_15_Sess_{}_Ch_{}_hit.txt\".format(Ch,indx)) # name file hit (following one)\n",
    "    newmat_hit = np.loadtxt(fnHit,dtype='f',delimiter='\\t') # load hit matrix\n",
    "    tensor_hit = np.dstack((tensor_hit,newmat_hit)) # stack matrix along the 3rd dimension \n",
    "        \n",
    "####################\n",
    "# ALL OTHER CHANNELS\n",
    "# ####################\n",
    "\n",
    "for Ch in range(2,53):\n",
    "    \n",
    "    print('Channel: ',Ch)\n",
    "    # name directory\n",
    "    pathHit = 'Data/Hits/1_Subject/{}_Sess/{}_Ch/1_Subject_{}_Sess_{}_Ch'.format(Sess,Ch,Sess,Ch)\n",
    "#     print(pathHit)\n",
    "\n",
    "    # name file\n",
    "    fnHit = os.path.join(pathHit,\"1_Subject_15_Sess_{}_Ch_{}_hit.txt\".format(Ch,1)) # name file hit (first one)\n",
    "    fnHitLabels = os.path.join(pathHit,\"1_Subject_15_Sess_{}_Ch_Hits_index.txt\".format(Ch)) # name file hit (first one)\n",
    "\n",
    "    labels_Hit = np.loadtxt(fnHitLabels,dtype='l',delimiter='\\t') # load hit matrix\n",
    "\n",
    "#     #plt.imshow(np.flipud(tensor_hit.transpose()))\n",
    "    for indx in range(2,len(labels_Hit)+1):\n",
    "        fnHit = os.path.join(pathHit,\"1_Subject_15_Sess_{}_Ch_{}_hit.txt\".format(Ch,indx)) # name file hit (following one)\n",
    "        newmat_hit = np.loadtxt(fnHit,dtype='f',delimiter='\\t') # load hit matrix\n",
    "        tensor_hit = np.dstack((tensor_hit,newmat_hit)) # stack matrix along the 3rd dimension \n",
    "\n",
    "    print(tensor_hit.shape) "
   ]
  },
  {
   "cell_type": "code",
   "execution_count": 3,
   "metadata": {},
   "outputs": [
    {
     "data": {
      "text/plain": [
       "(100, 61, 3345)"
      ]
     },
     "execution_count": 3,
     "metadata": {},
     "output_type": "execute_result"
    }
   ],
   "source": [
    "tensor_hit.shape"
   ]
  },
  {
   "cell_type": "markdown",
   "metadata": {},
   "source": [
    "### Load all the MISS trials in a given Session (all electrodes)"
   ]
  },
  {
   "cell_type": "code",
   "execution_count": 4,
   "metadata": {
    "scrolled": true
   },
   "outputs": [
    {
     "name": "stdout",
     "output_type": "stream",
     "text": [
      "Channel:  2\n",
      "(100, 61, 87)\n",
      "Channel:  3\n",
      "(100, 61, 130)\n",
      "Channel:  4\n",
      "(100, 61, 173)\n",
      "Channel:  5\n",
      "(100, 61, 216)\n",
      "Channel:  6\n",
      "(100, 61, 259)\n",
      "Channel:  7\n",
      "(100, 61, 302)\n",
      "Channel:  8\n",
      "(100, 61, 345)\n",
      "Channel:  9\n",
      "(100, 61, 388)\n",
      "Channel:  10\n",
      "(100, 61, 431)\n",
      "Channel:  11\n",
      "(100, 61, 474)\n",
      "Channel:  12\n",
      "(100, 61, 517)\n",
      "Channel:  13\n",
      "(100, 61, 559)\n",
      "Channel:  14\n",
      "(100, 61, 601)\n",
      "Channel:  15\n",
      "(100, 61, 643)\n",
      "Channel:  16\n",
      "(100, 61, 686)\n",
      "Channel:  17\n",
      "(100, 61, 729)\n",
      "Channel:  18\n",
      "(100, 61, 772)\n",
      "Channel:  19\n",
      "(100, 61, 815)\n",
      "Channel:  20\n",
      "(100, 61, 858)\n",
      "Channel:  21\n",
      "(100, 61, 901)\n",
      "Channel:  22\n",
      "(100, 61, 944)\n",
      "Channel:  23\n",
      "(100, 61, 987)\n",
      "Channel:  24\n",
      "(100, 61, 1030)\n",
      "Channel:  25\n",
      "(100, 61, 1071)\n",
      "Channel:  26\n",
      "(100, 61, 1114)\n",
      "Channel:  27\n",
      "(100, 61, 1157)\n",
      "Channel:  28\n",
      "(100, 61, 1200)\n",
      "Channel:  29\n",
      "(100, 61, 1243)\n",
      "Channel:  30\n",
      "(100, 61, 1286)\n",
      "Channel:  31\n",
      "(100, 61, 1329)\n",
      "Channel:  32\n",
      "(100, 61, 1370)\n",
      "Channel:  33\n",
      "(100, 61, 1409)\n",
      "Channel:  34\n",
      "(100, 61, 1451)\n",
      "Channel:  35\n",
      "(100, 61, 1493)\n",
      "Channel:  36\n",
      "(100, 61, 1535)\n",
      "Channel:  37\n",
      "(100, 61, 1578)\n",
      "Channel:  38\n",
      "(100, 61, 1621)\n",
      "Channel:  39\n",
      "(100, 61, 1663)\n",
      "Channel:  40\n",
      "(100, 61, 1705)\n",
      "Channel:  41\n",
      "(100, 61, 1747)\n",
      "Channel:  42\n",
      "(100, 61, 1788)\n",
      "Channel:  43\n",
      "(100, 61, 1831)\n",
      "Channel:  44\n",
      "(100, 61, 1873)\n",
      "Channel:  45\n",
      "(100, 61, 1915)\n",
      "Channel:  46\n",
      "(100, 61, 1958)\n",
      "Channel:  47\n",
      "(100, 61, 2001)\n",
      "Channel:  48\n",
      "(100, 61, 2041)\n",
      "Channel:  49\n",
      "(100, 61, 2083)\n",
      "Channel:  50\n",
      "(100, 61, 2126)\n",
      "Channel:  51\n",
      "(100, 61, 2169)\n",
      "Channel:  52\n",
      "(100, 61, 2212)\n"
     ]
    }
   ],
   "source": [
    "# PATH DIRECTORIES \n",
    "Sess = 15\n",
    "Ch = 1\n",
    "\n",
    "################\n",
    "# CHANNEL 1 ###\n",
    "###############\n",
    "\n",
    "# name directory\n",
    "pathMiss = 'Data/Misses/1_Subject/{}_Sess/{}_Ch/1_Subject_{}_Sess_{}_Ch'.format(Sess,Ch,Sess,Ch)\n",
    "# print(pathMiss)\n",
    "\n",
    "\n",
    "# name files\n",
    "fnMiss = os.path.join(pathMiss,\"1_Subject_15_Sess_{}_Ch_{}_miss.txt\".format(Ch,1)) # name file miss (first one)\n",
    "fnMissLabels = os.path.join(pathMiss,\"1_Subject_15_Sess_{}_Ch_Misses_index.txt\".format(Ch)) # name file with labels index\n",
    "\n",
    "# load miss matrix and label vector\n",
    "tensor_miss = np.loadtxt(fnMiss,dtype='f',delimiter='\\t') # load miss matrix\n",
    "labels_Miss = np.loadtxt(fnMissLabels,dtype='l',delimiter='\\t') # load labels vector\n",
    "\n",
    "#     #plt.imshow(np.flipud(tensor_miss.transpose()))\n",
    "# for all other indexes\n",
    "for indx in range(2,len(labels_Miss)+1):\n",
    "    fnMiss = os.path.join(pathMiss,\"1_Subject_15_Sess_{}_Ch_{}_miss.txt\".format(Ch,indx)) # name file miss (following one)\n",
    "    newmat_miss = np.loadtxt(fnMiss,dtype='f',delimiter='\\t') # load miss matrix\n",
    "    tensor_miss = np.dstack((tensor_miss,newmat_miss)) # stack matrix along the 3rd dimension \n",
    "        \n",
    "####################\n",
    "# ALL OTHER CHANNELS\n",
    "# ####################\n",
    "\n",
    "for Ch in range(2,53):\n",
    "    \n",
    "    print('Channel: ',Ch)\n",
    "    # name directory\n",
    "    pathMiss = 'Data/Misses/1_Subject/{}_Sess/{}_Ch/1_Subject_{}_Sess_{}_Ch'.format(Sess,Ch,Sess,Ch)\n",
    "#     print(pathMiss)\n",
    "#     pathMiss = 'Data/Misses/1_Subject/{}_Sess/{}_Ch/1_Subject_{}_Sess_{}_Ch'.format(Sess,Ch,Sess,Ch)\n",
    "#     print(pathMiss)\n",
    "\n",
    "    # name files\n",
    "    fnMiss = os.path.join(pathMiss,\"1_Subject_15_Sess_{}_Ch_{}_miss.txt\".format(Ch,1)) # name file miss (first one)\n",
    "    fnMissLabels = os.path.join(pathMiss,\"1_Subject_15_Sess_{}_Ch_Misses_index.txt\".format(Ch)) # name file with labels index\n",
    "\n",
    "    labels_Miss = np.loadtxt(fnMissLabels,dtype='l',delimiter='\\t') # load labels vector\n",
    "\n",
    "#     #plt.imshow(np.flipud(tensor_miss.transpose()))\n",
    "    for indx in range(2,len(labels_Miss)+1):\n",
    "        fnMiss = os.path.join(pathMiss,\"1_Subject_15_Sess_{}_Ch_{}_miss.txt\".format(Ch,indx)) # name file miss (following one)\n",
    "        newmat_miss = np.loadtxt(fnMiss,dtype='f',delimiter='\\t') # load miss matrix\n",
    "        tensor_miss = np.dstack((tensor_miss,newmat_miss)) # stack matrix along the 3rd dimension \n",
    "\n",
    "    print(tensor_miss.shape) "
   ]
  },
  {
   "cell_type": "code",
   "execution_count": 5,
   "metadata": {
    "scrolled": true
   },
   "outputs": [
    {
     "name": "stdout",
     "output_type": "stream",
     "text": [
      "(100, 61, 3345)\n",
      "(100, 61, 2212)\n"
     ]
    }
   ],
   "source": [
    "print(tensor_hit.shape)\n",
    "print(tensor_miss.shape)"
   ]
  },
  {
   "cell_type": "code",
   "execution_count": 6,
   "metadata": {},
   "outputs": [
    {
     "data": {
      "text/plain": [
       "<matplotlib.image.AxesImage at 0x7fa0b9f71ba8>"
      ]
     },
     "execution_count": 6,
     "metadata": {},
     "output_type": "execute_result"
    },
    {
     "data": {
      "image/png": "[encoded data removed]",
      "text/plain": [
       "<Figure size 432x288 with 1 Axes>"
      ]
     },
     "metadata": {
      "needs_background": "light"
     },
     "output_type": "display_data"
    }
   ],
   "source": [
    "plt.imshow(np.flipud(tensor_hit[:,:,1].transpose()))"
   ]
  },
  {
   "cell_type": "markdown",
   "metadata": {},
   "source": [
    "### Generate the labels"
   ]
  },
  {
   "cell_type": "markdown",
   "metadata": {},
   "source": [
    "Generate the labels for hits and misses and stack them into a single array"
   ]
  },
  {
   "cell_type": "code",
   "execution_count": 7,
   "metadata": {
    "scrolled": true
   },
   "outputs": [
    {
     "name": "stdout",
     "output_type": "stream",
     "text": [
      "(5557,)\n"
     ]
    }
   ],
   "source": [
    "labels_hit = np.ones(tensor_hit.shape[2],dtype='l')\n",
    "labels_miss = np.zeros(tensor_miss.shape[2],dtype='l')\n",
    "labels_tot = np.concatenate((labels_hit,labels_miss),axis=None)\n",
    "# print(labels_tot)\n",
    "print(labels_tot.shape)"
   ]
  },
  {
   "cell_type": "markdown",
   "metadata": {},
   "source": [
    "### Merge all the hits and misses matrices together"
   ]
  },
  {
   "cell_type": "code",
   "execution_count": 8,
   "metadata": {},
   "outputs": [
    {
     "name": "stdout",
     "output_type": "stream",
     "text": [
      "(100, 61, 5557)\n"
     ]
    },
    {
     "data": {
      "text/plain": [
       "5557"
      ]
     },
     "execution_count": 8,
     "metadata": {},
     "output_type": "execute_result"
    }
   ],
   "source": [
    "tensor_trial = np.dstack((tensor_hit,tensor_miss))\n",
    "print(tensor_trial.shape)\n",
    "tensor_trial[:,:,1].shape\n",
    "tensor_trial.shape[2]"
   ]
  },
  {
   "cell_type": "markdown",
   "metadata": {},
   "source": [
    "### Normalize inputs"
   ]
  },
  {
   "cell_type": "code",
   "execution_count": 9,
   "metadata": {},
   "outputs": [],
   "source": [
    "for indx in range(tensor_trial.shape[2]):\n",
    "    mean = np.mean(tensor_trial[:,:,indx])\n",
    "    std = np.std(tensor_trial[:,:,indx])\n",
    "    tensor_trial[:,:,indx] = (tensor_trial[:,:,indx] - mean)/std"
   ]
  },
  {
   "cell_type": "code",
   "execution_count": 10,
   "metadata": {},
   "outputs": [
    {
     "data": {
      "text/plain": [
       "<matplotlib.image.AxesImage at 0x7fa0b50b19b0>"
      ]
     },
     "execution_count": 10,
     "metadata": {},
     "output_type": "execute_result"
    },
    {
     "data": {
      "image/png": "[encoded data removed]",
      "text/plain": [
       "<Figure size 432x288 with 1 Axes>"
      ]
     },
     "metadata": {
      "needs_background": "light"
     },
     "output_type": "display_data"
    }
   ],
   "source": [
    "plt.imshow(np.flipud(tensor_trial[:,:,1].transpose()))"
   ]
  },
  {
   "cell_type": "markdown",
   "metadata": {},
   "source": [
    "## Load data into a trainloader and testloader"
   ]
  },
  {
   "cell_type": "code",
   "execution_count": 13,
   "metadata": {
    "scrolled": true
   },
   "outputs": [],
   "source": [
    "TOT_data = []\n",
    "for i in range(len(labels_tot)):\n",
    "    TOT_data.append([tensor_trial[:,:,i], labels_tot[i]])\n",
    "\n",
    "# set length train and test set\n",
    "train_length = int(0.75*len(TOT_data))\n",
    "test_length = len(TOT_data) - train_length\n",
    "\n",
    "# split data set \n",
    "train_dataset, test_dataset = torch.utils.data.random_split(TOT_data,(train_length,test_length))\n",
    "\n",
    "trainloader = torch.utils.data.DataLoader(train_dataset, shuffle=True, batch_size=10)\n",
    "testloader = torch.utils.data.DataLoader(test_dataset, shuffle=True, batch_size=10)"
   ]
  },
  {
   "cell_type": "code",
   "execution_count": 15,
   "metadata": {},
   "outputs": [
    {
     "data": {
      "text/plain": [
       "<torch.utils.data.dataset.Subset at 0x7fa0b5104be0>"
      ]
     },
     "execution_count": 15,
     "metadata": {},
     "output_type": "execute_result"
    }
   ],
   "source": [
    "train_dataset"
   ]
  },
  {
   "cell_type": "markdown",
   "metadata": {},
   "source": [
    "#### Create iterable "
   ]
  },
  {
   "cell_type": "code",
   "execution_count": 20,
   "metadata": {},
   "outputs": [
    {
     "name": "stdout",
     "output_type": "stream",
     "text": [
      "torch.Size([10])\n",
      "<built-in method type of Tensor object at 0x7fa0b4e12af8>\n",
      "tensor(0)\n"
     ]
    },
    {
     "data": {
      "image/png": "[encoded data removed]",
      "text/plain": [
       "<Figure size 432x288 with 1 Axes>"
      ]
     },
     "metadata": {
      "needs_background": "light"
     },
     "output_type": "display_data"
    }
   ],
   "source": [
    "images, labels = next(iter(testloader))\n",
    "plt.imshow(np.flipud(images[0].numpy().transpose()))\n",
    "print(labels.shape)\n",
    "print(images.type)\n",
    "print(labels[0])"
   ]
  },
  {
   "cell_type": "code",
   "execution_count": 21,
   "metadata": {},
   "outputs": [
    {
     "data": {
      "text/plain": [
       "torch.Size([10, 6100])"
      ]
     },
     "execution_count": 21,
     "metadata": {},
     "output_type": "execute_result"
    }
   ],
   "source": [
    "images.view(images.shape[0],-1).shape"
   ]
  },
  {
   "cell_type": "markdown",
   "metadata": {},
   "source": [
    "### Define the Network: Multilayer perceptron \n",
    "Use some dropout"
   ]
  },
  {
   "cell_type": "code",
   "execution_count": 6,
   "metadata": {},
   "outputs": [],
   "source": [
    "class FFN(nn.Module):\n",
    "    def __init__(self):\n",
    "        super().__init__()\n",
    "        \n",
    "        # linear layers\n",
    "        self.fc1 = nn.Linear(6100,762)\n",
    "        self.fc2 = nn.Linear(762, 381)\n",
    "        self.fc3 = nn.Linear(381,2)\n",
    "#         self.fc5 = nn.Linear(381,2)\n",
    "        \n",
    "        # Dropout module with 0.2 drop probability\n",
    "        self.dropout = nn.Dropout(p=0.2)    \n",
    "    \n",
    "    def forward(self,x):\n",
    "        \n",
    "        # flatten the input tensor \n",
    "        x = x.view(x.shape[0],-1)\n",
    "        \n",
    "        # activation functions\n",
    "        x = self.dropout(F.relu(self.fc1(x)))\n",
    "        x = self.dropout(F.relu(self.fc2(x)))\n",
    "#         x = self.dropout(F.relu(self.fc3(x)))\n",
    "#         x = F.relu(self.fc4(x))\n",
    "        x = F.log_softmax(self.fc3(x), dim=1)\n",
    "        \n",
    "        return x"
   ]
  },
  {
   "cell_type": "code",
   "execution_count": 7,
   "metadata": {},
   "outputs": [
    {
     "data": {
      "text/plain": [
       "FFN(\n",
       "  (fc1): Linear(in_features=6100, out_features=762, bias=True)\n",
       "  (fc2): Linear(in_features=762, out_features=381, bias=True)\n",
       "  (fc3): Linear(in_features=381, out_features=2, bias=True)\n",
       "  (dropout): Dropout(p=0.2, inplace=False)\n",
       ")"
      ]
     },
     "execution_count": 7,
     "metadata": {},
     "output_type": "execute_result"
    }
   ],
   "source": [
    "model = FFN()\n",
    "model"
   ]
  },
  {
   "cell_type": "markdown",
   "metadata": {},
   "source": [
    "### Set loss function and optimizer"
   ]
  },
  {
   "cell_type": "code",
   "execution_count": 8,
   "metadata": {},
   "outputs": [],
   "source": [
    "criterion = nn.NLLLoss()\n",
    "optimizer = optim.Adam(model.parameters(), lr = 0.01)"
   ]
  },
  {
   "cell_type": "markdown",
   "metadata": {},
   "source": [
    "#### Move model on GPU if available "
   ]
  },
  {
   "cell_type": "code",
   "execution_count": 9,
   "metadata": {},
   "outputs": [
    {
     "name": "stdout",
     "output_type": "stream",
     "text": [
      "CUDA is available!  Training on GPU ...\n"
     ]
    },
    {
     "data": {
      "text/plain": [
       "True"
      ]
     },
     "execution_count": 9,
     "metadata": {},
     "output_type": "execute_result"
    }
   ],
   "source": [
    "# check if CUDA is available\n",
    "train_on_gpu = torch.cuda.is_available()\n",
    "\n",
    "if not train_on_gpu:\n",
    "    print('CUDA is not available.  Training on CPU ...')\n",
    "else:\n",
    "    print('CUDA is available!  Training on GPU ...')\n",
    "\n",
    "# move tensors to GPU if CUDA is available\n",
    "if train_on_gpu:\n",
    "    model.cuda()\n",
    "next(model.parameters()).is_cuda\n",
    "next(model.parameters()).is_cuda\n",
    "train_on_gpu"
   ]
  },
  {
   "cell_type": "code",
   "execution_count": 32,
   "metadata": {},
   "outputs": [
    {
     "data": {
      "text/plain": [
       "tensor([1, 1, 0, 1, 1, 0, 1, 1, 1, 1])"
      ]
     },
     "execution_count": 32,
     "metadata": {},
     "output_type": "execute_result"
    }
   ],
   "source": [
    "labels"
   ]
  },
  {
   "cell_type": "markdown",
   "metadata": {},
   "source": [
    "## Train and validate the Network "
   ]
  },
  {
   "cell_type": "code",
   "execution_count": 33,
   "metadata": {},
   "outputs": [
    {
     "name": "stdout",
     "output_type": "stream",
     "text": [
      "Epoch: 1/20..  Training Loss: 0.003..  Test Loss: 0.671..  Test Accuracy: 0.604\n",
      "Epoch: 2/20..  Training Loss: 0.002..  Test Loss: 0.672..  Test Accuracy: 0.604\n",
      "Epoch: 3/20..  Training Loss: 0.002..  Test Loss: 0.671..  Test Accuracy: 0.604\n",
      "Epoch: 4/20..  Training Loss: 0.002..  Test Loss: 0.671..  Test Accuracy: 0.604\n",
      "Epoch: 5/20..  Training Loss: 0.002..  Test Loss: 0.712..  Test Accuracy: 0.604\n",
      "Epoch: 6/20..  Training Loss: 0.002..  Test Loss: 0.697..  Test Accuracy: 0.604\n",
      "Epoch: 7/20..  Training Loss: 0.002..  Test Loss: 0.709..  Test Accuracy: 0.604\n",
      "Epoch: 8/20..  Training Loss: 0.002..  Test Loss: 0.682..  Test Accuracy: 0.603\n",
      "Epoch: 9/20..  Training Loss: 0.001..  Test Loss: 0.688..  Test Accuracy: 0.604\n",
      "Epoch: 10/20..  Training Loss: 0.002..  Test Loss: 0.674..  Test Accuracy: 0.604\n",
      "Epoch: 11/20..  Training Loss: 0.002..  Test Loss: 0.675..  Test Accuracy: 0.604\n",
      "Epoch: 12/20..  Training Loss: 0.001..  Test Loss: 0.677..  Test Accuracy: 0.604\n",
      "Epoch: 13/20..  Training Loss: 0.002..  Test Loss: 0.676..  Test Accuracy: 0.604\n",
      "Epoch: 14/20..  Training Loss: 0.001..  Test Loss: 0.675..  Test Accuracy: 0.604\n",
      "Epoch: 15/20..  Training Loss: 0.001..  Test Loss: 0.675..  Test Accuracy: 0.604\n",
      "Epoch: 16/20..  Training Loss: 0.002..  Test Loss: 0.676..  Test Accuracy: 0.604\n",
      "Epoch: 17/20..  Training Loss: 0.002..  Test Loss: 0.675..  Test Accuracy: 0.604\n",
      "Epoch: 18/20..  Training Loss: 0.001..  Test Loss: 0.677..  Test Accuracy: 0.604\n",
      "Epoch: 19/20..  Training Loss: 0.002..  Test Loss: 0.678..  Test Accuracy: 0.604\n",
      "Epoch: 20/20..  Training Loss: 0.002..  Test Loss: 0.675..  Test Accuracy: 0.604\n"
     ]
    }
   ],
   "source": [
    "#######################\n",
    "#     TRAINING  \n",
    "######################\n",
    "\n",
    "model.train() # set the network in training mode\n",
    "\n",
    "epochs = 20\n",
    "train_losses, test_losses = [], []\n",
    "\n",
    "for epoch in range(epochs):\n",
    "    running_loss = 0\n",
    "    for images, labels in trainloader:\n",
    "        \n",
    "#         if train_on_gpu: # move data on GPU\n",
    "#             images, labels = images.cuda(), labels.cuda()\n",
    "            \n",
    "        # flatten images into a vector\n",
    "#         labels = labels.long() # change label type from int to long \n",
    "        \n",
    "        # Clear the gradients\n",
    "        optimizer.zero_grad()\n",
    "        \n",
    "        log_ps = model(images) # forward pass\n",
    "        loss = criterion(log_ps,labels) # compute the loss\n",
    "        loss.backward() # backpropagate to compute the gradients\n",
    "        optimizer.step() # update the weights\n",
    "        \n",
    "        running_loss =+ loss.item()\n",
    "    \n",
    "    else:\n",
    "        \n",
    "        #######################\n",
    "        #     VALIDATION \n",
    "        ######################\n",
    " \n",
    "        test_loss = 0\n",
    "        accuracy = 0\n",
    "        with torch.no_grad(): # set the tracing of gradients to zero\n",
    "            model.eval() # set the dropout to OFF, i.e. model is in evaluation mode\n",
    "            \n",
    "            for images, labels in testloader:\n",
    "                \n",
    "#                 if train_on_gpu: # move data on GPU\n",
    "#                     images, labels = images.cuda(), labels.cuda()\n",
    "                \n",
    "                 # flatten images into a vector\n",
    "#                 labels = labels.long() # change label type from int to long \n",
    "        \n",
    "                log_ps = model(images)\n",
    "                test_loss += criterion(log_ps,labels)\n",
    "                \n",
    "                ps = torch.exp(log_ps)\n",
    "                top_p, top_class = ps.topk(1, dim=1)                \n",
    "                equals = top_class == labels.view(*top_class.shape)\n",
    "                accuracy += torch.mean(equals.type(torch.FloatTensor)) \n",
    "                \n",
    "        model.train() # set the model back to train mode, i.e. dropout is ON\n",
    "        train_losses.append(running_loss/len(trainloader))\n",
    "        test_losses.append(test_loss/len(testloader))\n",
    "            \n",
    "            \n",
    "        ############################\n",
    "        # PRINT ACCURACTY AND LOSSES\n",
    "        ############################\n",
    "        \n",
    "        print(\"Epoch: {}/{}.. \".format(epoch+1, epochs),\n",
    "              \"Training Loss: {:.3f}.. \".format(running_loss/len(trainloader)),\n",
    "              \"Test Loss: {:.3f}.. \".format(test_loss/len(testloader)),\n",
    "              \"Test Accuracy: {:.3f}\".format(accuracy/len(testloader)))"
   ]
  },
  {
   "cell_type": "code",
   "execution_count": 34,
   "metadata": {},
   "outputs": [
    {
     "name": "stdout",
     "output_type": "stream",
     "text": [
      "Label:  1\n",
      "Probability:   [[0.41619873 0.5838012 ]]\n"
     ]
    }
   ],
   "source": [
    "%matplotlib inline\n",
    "import helper\n",
    "\n",
    "images, labels = next(iter(trainloader))\n",
    "\n",
    "img = images[0].view(1, 6100) # Test only the first image\n",
    "model.cpu()\n",
    "#Turn off gradients to speed up this part\n",
    "with torch.no_grad():\n",
    "    logps = model(img)\n",
    "    \n",
    "\n",
    "#Output of the network are log-probabilities, need to take exponential for probabilities\n",
    "ps = torch.exp(logps)\n",
    "print('Label: ',labels[0].numpy()) # print the label corresponding to the first image\n",
    "print('Probability:  ',ps.numpy()) # print prob for 0 and 1 corresponding to the first layer\n",
    "\n",
    "# helper.view_classify(img.view(100,61), ps)"
   ]
  },
  {
   "cell_type": "markdown",
   "metadata": {},
   "source": [
    "### Other tests, not relevant "
   ]
  },
  {
   "cell_type": "code",
   "execution_count": 101,
   "metadata": {},
   "outputs": [
    {
     "name": "stdout",
     "output_type": "stream",
     "text": [
      "Label:  1\n",
      "Probability:   [[0.4318198  0.56818026]]\n"
     ]
    }
   ],
   "source": [
    "%matplotlib inline\n",
    "import helper\n",
    "\n",
    "images, labels = next(iter(trainloader))\n",
    "\n",
    "img = images[0].view(1, 6100) # Test only the first image\n",
    "model.cpu()\n",
    "#Turn off gradients to speed up this part\n",
    "with torch.no_grad():\n",
    "    logps = model(img)\n",
    "    \n",
    "\n",
    "#Output of the network are log-probabilities, need to take exponential for probabilities\n",
    "ps = torch.exp(logps)\n",
    "print('Label: ',labels[0].numpy()) # print the label corresponding to the first image\n",
    "print('Probability:  ',ps.numpy()) # print prob for 0 and 1 corresponding to the first layer\n",
    "\n",
    "# helper.view_classify(img.view(100,61), ps)"
   ]
  },
  {
   "cell_type": "code",
   "execution_count": 70,
   "metadata": {
    "collapsed": true
   },
   "outputs": [
    {
     "data": {
      "text/plain": [
       "<matplotlib.image.AxesImage at 0x7fd58cbb99e8>"
      ]
     },
     "execution_count": 70,
     "metadata": {},
     "output_type": "execute_result"
    },
    {
     "data": {
      "image/png": "[encoded data removed]",
      "text/plain": [
       "<Figure size 432x288 with 1 Axes>"
      ]
     },
     "metadata": {
      "needs_background": "light"
     },
     "output_type": "display_data"
    }
   ],
   "source": [
    "img.view(100,61).numpy()\n",
    "plt.imshow(np.flipud(img.view(100,61).numpy().transpose()))"
   ]
  },
  {
   "cell_type": "code",
   "execution_count": 103,
   "metadata": {},
   "outputs": [
    {
     "name": "stdout",
     "output_type": "stream",
     "text": [
      "tensor([[0.5682, 0.4318]])\n",
      "tensor([[1, 0]])\n"
     ]
    }
   ],
   "source": [
    "top_p, top_class = ps.topk(2, dim=1)\n",
    "print(top_p)\n",
    "print(top_class)\n",
    "print"
   ]
  },
  {
   "cell_type": "code",
   "execution_count": 112,
   "metadata": {},
   "outputs": [
    {
     "data": {
      "text/plain": [
       "False"
      ]
     },
     "execution_count": 112,
     "metadata": {},
     "output_type": "execute_result"
    }
   ],
   "source": [
    "next(model.parameters()).is_cuda"
   ]
  },
  {
   "cell_type": "code",
   "execution_count": 126,
   "metadata": {},
   "outputs": [
    {
     "name": "stdout",
     "output_type": "stream",
     "text": [
      "tensor([[0.4565, 0.5435],\n",
      "        [0.4446, 0.5554],\n",
      "        [0.4643, 0.5357],\n",
      "        [0.4559, 0.5441],\n",
      "        [0.4648, 0.5352],\n",
      "        [0.4752, 0.5248],\n",
      "        [0.4576, 0.5424],\n",
      "        [0.4795, 0.5205],\n",
      "        [0.4576, 0.5424],\n",
      "        [0.4570, 0.5430]])\n",
      "tensor([1, 0, 1, 1, 0, 0, 1, 1, 0, 0], dtype=torch.int32)\n"
     ]
    }
   ],
   "source": [
    "images, labels = next(iter(trainloader))\n",
    "with torch.no_grad():\n",
    "    logps = model(images)\n",
    "    \n",
    "ps = torch.exp(logps)\n",
    "print(ps)\n",
    "print(labels)"
   ]
  },
  {
   "cell_type": "code",
   "execution_count": 124,
   "metadata": {},
   "outputs": [
    {
     "name": "stdout",
     "output_type": "stream",
     "text": [
      "tensor([[1],\n",
      "        [1],\n",
      "        [1],\n",
      "        [1],\n",
      "        [1],\n",
      "        [1],\n",
      "        [1],\n",
      "        [1],\n",
      "        [1],\n",
      "        [1]])\n"
     ]
    }
   ],
   "source": [
    "top_p, top_class = ps.topk(1, dim=1)\n",
    "# Look at the most likely classes for the first 10 examples\n",
    "print(top_class[:10,:])"
   ]
  },
  {
   "cell_type": "code",
   "execution_count": 134,
   "metadata": {},
   "outputs": [
    {
     "name": "stdout",
     "output_type": "stream",
     "text": [
      "tensor([[ True],\n",
      "        [False],\n",
      "        [ True],\n",
      "        [ True],\n",
      "        [False],\n",
      "        [False],\n",
      "        [ True],\n",
      "        [ True],\n",
      "        [False],\n",
      "        [False]])\n"
     ]
    }
   ],
   "source": [
    "equals = top_class == labels.view(*top_class.shape)\n",
    "print(equals)"
   ]
  },
  {
   "cell_type": "code",
   "execution_count": 135,
   "metadata": {},
   "outputs": [
    {
     "name": "stdout",
     "output_type": "stream",
     "text": [
      "Accuracy: 50.0%\n"
     ]
    }
   ],
   "source": [
    "accuracy = torch.mean(equals.type(torch.FloatTensor))\n",
    "print(f'Accuracy: {accuracy.item()*100}%')"
   ]
  },
  {
   "cell_type": "code",
   "execution_count": null,
   "metadata": {},
   "outputs": [],
   "source": []
  }
 ],
 "metadata": {
  "kernelspec": {
   "display_name": "Python 3",
   "language": "python",
   "name": "python3"
  },
  "language_info": {
   "codemirror_mode": {
    "name": "ipython",
    "version": 3
   },
   "file_extension": ".py",
   "mimetype": "text/x-python",
   "name": "python",
   "nbconvert_exporter": "python",
   "pygments_lexer": "ipython3",
   "version": "3.7.3"
  }
 },
 "nbformat": 4,
 "nbformat_minor": 2
}
