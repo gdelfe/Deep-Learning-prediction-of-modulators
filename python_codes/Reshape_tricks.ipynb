{
 "cells": [
  {
   "cell_type": "code",
   "execution_count": null,
   "metadata": {},
   "outputs": [],
   "source": [
    "image1 = np.array([[4,2,3],[5,5,4]])\n",
    "image2 = np.array([[3,1,2],[6,7,9]])\n",
    "\n",
    "print('images before reshaping')\n",
    "print(image1)\n",
    "print(image2)\n",
    "\n",
    "print(image1.shape)\n",
    "print(image2.shape)\n",
    "\n",
    "print('images after reshaping')\n",
    "image1 = image1.reshape(1,2,3)\n",
    "image2 = image2.reshape(1,2,3)\n",
    "\n",
    "print(image1)\n",
    "print(image2)\n",
    "\n",
    "print(image1.shape)\n",
    "print(image2.shape)\n",
    "\n",
    "print('Merging along axis = 1')\n",
    "X = np.stack((image1,image2),axis=1) \n",
    "\n",
    "print()\n",
    "print('X: ',X)\n",
    "print(X.shape)\n",
    "\n",
    "print('Squeezing along axis = 1')tensor_hit = tensor_hit.reshape(1,x_size,y_size)\n",
    "Y = np.squeeze(X,axis = 0)\n",
    "print(Y)\n",
    "print(Y.shape)\n",
    "print(image2.shape)\n",
    "\n",
    "#        [6, 7]])\n",
    "Z = np.concatenate((Y,image2),axis=0)\n",
    "print(Z)\n",
    "print(Z.shape)\n",
    "# X = np.stack((,image2),axis=1)\n",
    "# array([[[[4, 2],\n",
    "#          [5, 5]],\n",
    "#         [[3, 1],\n",
    "#         [6, 7]]]])\n",
    "\n",
    "# np.shape(X)         \n",
    "# X = X.reshape((2,2,2))   \n",
    "# X \n",
    "# array([[[4, 2],\n",
    "#         [5, 5]],\n",
    "#        [[3, 1],\n",
    "#         [6, 7]]])\n",
    "\n",
    "# X[0] # image 1\n",
    "# array([[4, 2],\n",
    "#        [5, 5]])\n",
    "# X[1] # image 2\n",
    "# array([[3, 1], "
   ]
  }
 ],
 "metadata": {
  "kernelspec": {
   "display_name": "Python 3",
   "language": "python",
   "name": "python3"
  },
  "language_info": {
   "codemirror_mode": {
    "name": "ipython",
    "version": 3
   },
   "file_extension": ".py",
   "mimetype": "text/x-python",
   "name": "python",
   "nbconvert_exporter": "python",
   "pygments_lexer": "ipython3",
   "version": "3.7.3"
  }
 },
 "nbformat": 4,
 "nbformat_minor": 2
}
