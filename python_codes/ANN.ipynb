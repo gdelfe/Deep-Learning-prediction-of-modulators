{
 "cells": [
  {
   "cell_type": "code",
   "execution_count": 1,
   "metadata": {},
   "outputs": [
    {
     "data": {
      "text/plain": [
       "'/mnt/pesaranlab/People/Gino/code/DL-modulators'"
      ]
     },
     "execution_count": 1,
     "metadata": {},
     "output_type": "execute_result"
    }
   ],
   "source": [
    "pwd"
   ]
  },
  {
   "cell_type": "code",
   "execution_count": 132,
   "metadata": {},
   "outputs": [],
   "source": [
    "%matplotlib inline\n",
    "import numpy as np\n",
    "import torch\n",
    "from torch import nn, optim\n",
    "import torch.nn.functional as F\n",
    "import matplotlib.pyplot as plt\n",
    "import os"
   ]
  },
  {
   "cell_type": "code",
   "execution_count": 133,
   "metadata": {},
   "outputs": [
    {
     "data": {
      "text/plain": [
       "'/mnt/pesaranlab/People/Gino/code/DL-modulators'"
      ]
     },
     "execution_count": 133,
     "metadata": {},
     "output_type": "execute_result"
    }
   ],
   "source": [
    "pwd"
   ]
  },
  {
   "cell_type": "code",
   "execution_count": 317,
   "metadata": {},
   "outputs": [
    {
     "name": "stdout",
     "output_type": "stream",
     "text": [
      "Data/Hits/1_Subject_15_Sess_1_Ch\n",
      "Data/Misses/1_Subject_15_Sess_1_Ch\n"
     ]
    }
   ],
   "source": [
    "Ch = 1\n",
    "pathHit = 'Data/Hits/1_Subject_15_Sess_{}_Ch'.format(Ch)\n",
    "print(pathHit)\n",
    "pathMiss = 'Data/Misses/1_Subject_15_Sess_{}_Ch'.format(Ch)\n",
    "print(pathMiss)"
   ]
  },
  {
   "cell_type": "code",
   "execution_count": 144,
   "metadata": {},
   "outputs": [
    {
     "name": "stdout",
     "output_type": "stream",
     "text": [
      "Data/Hits/1_Subject_15_Sess_1_Ch/1_Subject_15_Sess_1_Ch_1_hit.txt\n"
     ]
    }
   ],
   "source": [
    "hitIndx = 1\n",
    "fnHit = os.path.join(pathHIT,\"1_Subject_15_Sess_1_Ch_{}_hit.txt\".format(hitIndx))\n",
    "print(fnHit)"
   ]
  },
  {
   "cell_type": "code",
   "execution_count": 286,
   "metadata": {
    "scrolled": true
   },
   "outputs": [
    {
     "data": {
      "text/plain": [
       "numpy.ndarray"
      ]
     },
     "execution_count": 286,
     "metadata": {},
     "output_type": "execute_result"
    },
    {
     "data": {
      "image/png": "[encoded data removed]",
      "text/plain": [
       "<Figure size 432x288 with 1 Axes>"
      ]
     },
     "metadata": {
      "needs_background": "light"
     },
     "output_type": "display_data"
    }
   ],
   "source": [
    "matrix = np.loadtxt(fnHit,dtype='f',delimiter='\\t')\n",
    "plt.imshow(np.flipud(matrix.transpose()))\n",
    "type(matrix)"
   ]
  },
  {
   "cell_type": "code",
   "execution_count": 337,
   "metadata": {},
   "outputs": [
    {
     "name": "stdout",
     "output_type": "stream",
     "text": [
      "a dimension:  (2, 3)\n",
      "b dimension:  (2, 3)\n",
      "A dimension:  (2, 3, 2)\n",
      "c dimension:  (2, 3)\n",
      "B dimension:  (2, 3, 3)\n",
      "(2, 3)\n"
     ]
    }
   ],
   "source": [
    "a = np.array([[1, 1,1],[1,1,1]])\n",
    "b = np.array([[2, 2,2],[2,2,2]])\n",
    "print('a dimension: ',a.shape)\n",
    "print('b dimension: ',b.shape)\n",
    "A = np.dstack((a, b))\n",
    "print('A dimension: ',A.shape)\n",
    "c = np.array([[3,3,3],[3,3,3]])\n",
    "print('c dimension: ',c.shape)\n",
    "B = np.dstack((A,c))\n",
    "print('B dimension: ',B.shape)\n",
    "print(B[:,:,0].shape)"
   ]
  },
  {
   "cell_type": "markdown",
   "metadata": {},
   "source": [
    "### Load all the hit trials in a given electrode"
   ]
  },
  {
   "cell_type": "code",
   "execution_count": 345,
   "metadata": {},
   "outputs": [
    {
     "name": "stdout",
     "output_type": "stream",
     "text": [
      "(100, 61, 64)\n"
     ]
    }
   ],
   "source": [
    "fnHit = os.path.join(pathHIT,\"1_Subject_15_Sess_1_Ch_{}_hit.txt\".format(1)) # name file hit (first one)\n",
    "tensor_hit = np.loadtxt(fnHit,dtype='f',delimiter='\\t') # load hit matrix\n",
    "#plt.imshow(np.flipud(tensor_hit.transpose()))\n",
    "for indx in range(2,65):\n",
    "    fnHit = os.path.join(pathHIT,\"1_Subject_15_Sess_1_Ch_{}_hit.txt\".format(indx)) # name file hit (following one)\n",
    "    newmat_hit = np.loadtxt(fnHit,dtype='f',delimiter='\\t') # load hit matrix\n",
    "    tensor_hit = np.dstack((tensor_hit,newmat_hit)) # stack matrix along the 3rd dimension \n",
    "\n",
    "print(tensor_hit.shape)"
   ]
  },
  {
   "cell_type": "markdown",
   "metadata": {},
   "source": [
    "### Load all the miss trials in a given electrode"
   ]
  },
  {
   "cell_type": "code",
   "execution_count": 346,
   "metadata": {},
   "outputs": [
    {
     "name": "stdout",
     "output_type": "stream",
     "text": [
      "(100, 61, 44)\n"
     ]
    }
   ],
   "source": [
    "fnMiss = os.path.join(pathMiss,\"1_Subject_15_Sess_1_Ch_{}_miss.txt\".format(1)) # name file miss (first one)\n",
    "tensor_miss = np.loadtxt(fnMiss,dtype='f',delimiter='\\t') # load miss matrix\n",
    "for indx in range(2,45):\n",
    "    fnMiss = os.path.join(pathMiss,\"1_Subject_15_Sess_1_Ch_{}_miss.txt\".format(indx)) # name file miss (following one)\n",
    "    newmat_miss = np.loadtxt(fnMiss,dtype='f',delimiter='\\t') # load hit matrix\n",
    "    tensor_miss = np.dstack((tensor_miss,newmat_miss)) \n",
    "    \n",
    "print(tensor_miss.shape)"
   ]
  },
  {
   "cell_type": "markdown",
   "metadata": {},
   "source": [
    "#### Merge all the hits and misses matrices together"
   ]
  },
  {
   "cell_type": "code",
   "execution_count": 394,
   "metadata": {},
   "outputs": [
    {
     "name": "stdout",
     "output_type": "stream",
     "text": [
      "(100, 61, 108)\n"
     ]
    }
   ],
   "source": [
    "tensor_trial = np.dstack((tensor_hit,tensor_miss))\n",
    "print(tensor_trial.shape)"
   ]
  },
  {
   "cell_type": "markdown",
   "metadata": {},
   "source": [
    "### Generate the labels"
   ]
  },
  {
   "cell_type": "code",
   "execution_count": 397,
   "metadata": {},
   "outputs": [
    {
     "name": "stdout",
     "output_type": "stream",
     "text": [
      "[1. 1. 1. 1. 1. 1. 1. 1. 1. 1. 1. 1. 1. 1. 1. 1. 1. 1. 1. 1. 1. 1. 1. 1.\n",
      " 1. 1. 1. 1. 1. 1. 1. 1. 1. 1. 1. 1. 1. 1. 1. 1. 1. 1. 1. 1. 1. 1. 1. 1.\n",
      " 1. 1. 1. 1. 1. 1. 1. 1. 1. 1. 1. 1. 1. 1. 1. 1. 0. 0. 0. 0. 0. 0. 0. 0.\n",
      " 0. 0. 0. 0. 0. 0. 0. 0. 0. 0. 0. 0. 0. 0. 0. 0. 0. 0. 0. 0. 0. 0. 0. 0.\n",
      " 0. 0. 0. 0. 0. 0. 0. 0. 0. 0. 0. 0.]\n",
      "(108,)\n"
     ]
    }
   ],
   "source": [
    "labels_hit = np.ones(64)\n",
    "labels_miss = np.zeros(44)\n",
    "labels = np.concatenate((labels_hit,labels_miss),axis=None)\n",
    "print(labels)\n",
    "print(labels.shape)"
   ]
  },
  {
   "cell_type": "code",
   "execution_count": 142,
   "metadata": {},
   "outputs": [
    {
     "data": {
      "text/plain": [
       "torch.Size([100, 61])"
      ]
     },
     "execution_count": 142,
     "metadata": {},
     "output_type": "execute_result"
    }
   ],
   "source": [
    "matTorch = torch.from_numpy(matrix)\n",
    "matTorch.shape"
   ]
  },
  {
   "cell_type": "code",
   "execution_count": null,
   "metadata": {},
   "outputs": [],
   "source": [
    "train_data = []\n",
    "for i in range(len(x_data)):\n",
    "    train_data.append([x_data[i], labels[i]])\n",
    "\n",
    "trainloader = torch.utils.data.DataLoader(train_data, shuffle=True, batch_size=100)\n",
    "i1, l1 = next(iter(trainloader))\n",
    "print(i1.shape)"
   ]
  },
  {
   "cell_type": "code",
   "execution_count": 138,
   "metadata": {},
   "outputs": [],
   "source": [
    "class FFN(nn.Module):\n",
    "    def __init__(self):\n",
    "        super().__init__()\n",
    "        \n",
    "        # linear layers\n",
    "        self.fc1 = nn.Linear(610,256)\n",
    "        self.fc2 = nn.Linear(256, 128)\n",
    "        self.fc3 = nn.Linear(128, 64)\n",
    "        self.fc4 = nn.Linear(64, 2)\n",
    "        \n",
    "    def forward(self,x):\n",
    "        \n",
    "        # flatten the input tensor \n",
    "        x = x.view(x.shape[0],-1)\n",
    "        \n",
    "        # activation functions\n",
    "        x = F.relu(self.fc1(x))\n",
    "        x = F.relu(self.fc2(x))\n",
    "        x = F.relu(self.fc3(x))\n",
    "        x = F.log_softmax(self.fc4(x), dim=1)\n",
    "        \n",
    "        return x"
   ]
  },
  {
   "cell_type": "code",
   "execution_count": null,
   "metadata": {},
   "outputs": [],
   "source": []
  }
 ],
 "metadata": {
  "kernelspec": {
   "display_name": "Python 3",
   "language": "python",
   "name": "python3"
  },
  "language_info": {
   "codemirror_mode": {
    "name": "ipython",
    "version": 3
   },
   "file_extension": ".py",
   "mimetype": "text/x-python",
   "name": "python",
   "nbconvert_exporter": "python",
   "pygments_lexer": "ipython3",
   "version": "3.7.3"
  }
 },
 "nbformat": 4,
 "nbformat_minor": 2
}
