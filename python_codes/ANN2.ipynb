{
 "cells": [
  {
   "cell_type": "code",
   "execution_count": 1,
   "metadata": {},
   "outputs": [
    {
     "data": {
      "text/plain": [
       "'/home/bijanadmin/Desktop/DL-modulators'"
      ]
     },
     "execution_count": 1,
     "metadata": {},
     "output_type": "execute_result"
    }
   ],
   "source": [
    "pwd"
   ]
  },
  {
   "cell_type": "code",
   "execution_count": 1,
   "metadata": {},
   "outputs": [],
   "source": [
    "%matplotlib inline\n",
    "import numpy as np\n",
    "import torch\n",
    "from torch import nn, optim\n",
    "from torchvision import transforms\n",
    "import torch.nn.functional as F\n",
    "import matplotlib.pyplot as plt\n",
    "import os"
   ]
  },
  {
   "cell_type": "code",
   "execution_count": 2,
   "metadata": {},
   "outputs": [
    {
     "data": {
      "text/plain": [
       "'/home/bijanadmin/Desktop/DL-modulators'"
      ]
     },
     "execution_count": 2,
     "metadata": {},
     "output_type": "execute_result"
    }
   ],
   "source": [
    "pwd"
   ]
  },
  {
   "cell_type": "code",
   "execution_count": 170,
   "metadata": {},
   "outputs": [
    {
     "name": "stdout",
     "output_type": "stream",
     "text": [
      "Data/Hits/1_Subject/15_Sess/1_Ch/1_Subject_15_Sess_1_Ch\n",
      "Data/Misses/1_Subject/15_Sess/1_Ch/1_Subject_15_Sess_1_Ch\n"
     ]
    }
   ],
   "source": [
    "Sess = 15\n",
    "Ch = 1\n",
    "pathHit = 'Data/Hits/1_Subject/{}_Sess/{}_Ch/1_Subject_{}_Sess_{}_Ch'.format(Sess,Ch,Sess,Ch)\n",
    "print(pathHit)\n",
    "pathMiss = 'Data/Misses/1_Subject/{}_Sess/{}_Ch/1_Subject_{}_Sess_{}_Ch'.format(Sess,Ch,Sess,Ch)\n",
    "print(pathMiss)"
   ]
  },
  {
   "cell_type": "code",
   "execution_count": 171,
   "metadata": {},
   "outputs": [
    {
     "name": "stdout",
     "output_type": "stream",
     "text": [
      "Data/Hits/1_Subject/15_Sess/1_Ch/1_Subject_15_Sess_1_Ch/1_Subject_15_Sess_1_Ch_1_hit.txt\n"
     ]
    }
   ],
   "source": [
    "hitIndx = 1\n",
    "fnHit = os.path.join(pathHit,\"1_Subject_15_Sess_1_Ch_{}_hit.txt\".format(hitIndx))\n",
    "print(fnHit)"
   ]
  },
  {
   "cell_type": "code",
   "execution_count": 172,
   "metadata": {
    "scrolled": true
   },
   "outputs": [
    {
     "data": {
      "text/plain": [
       "numpy.ndarray"
      ]
     },
     "execution_count": 172,
     "metadata": {},
     "output_type": "execute_result"
    },
    {
     "data": {
      "image/png": "[encoded data removed]",
      "text/plain": [
       "<Figure size 432x288 with 1 Axes>"
      ]
     },
     "metadata": {
      "needs_background": "light"
     },
     "output_type": "display_data"
    }
   ],
   "source": [
    "matrix = np.loadtxt(fnHit,dtype='f',delimiter='\\t')\n",
    "plt.imshow(np.flipud(matrix.transpose()))\n",
    "type(matrix)"
   ]
  },
  {
   "cell_type": "code",
   "execution_count": 173,
   "metadata": {},
   "outputs": [
    {
     "name": "stdout",
     "output_type": "stream",
     "text": [
      "a dimension:  (2, 3)\n",
      "b dimension:  (2, 3)\n",
      "A dimension:  (2, 3, 2)\n",
      "c dimension:  (2, 3)\n",
      "B dimension:  (2, 3, 3)\n",
      "(2, 3)\n"
     ]
    }
   ],
   "source": [
    "a = np.array([[1, 1,1],[1,1,1]])\n",
    "b = np.array([[2, 2,2],[2,2,2]])\n",
    "print('a dimension: ',a.shape)\n",
    "print('b dimension: ',b.shape)\n",
    "A = np.dstack((a, b))\n",
    "print('A dimension: ',A.shape)\n",
    "c = np.array([[3,3,3],[3,3,3]])\n",
    "print('c dimension: ',c.shape)\n",
    "B = np.dstack((A,c))\n",
    "print('B dimension: ',B.shape)\n",
    "print(B[:,:,0].shape)"
   ]
  },
  {
   "cell_type": "markdown",
   "metadata": {},
   "source": [
    "### Load all the hit trials in a given electrode"
   ]
  },
  {
   "cell_type": "code",
   "execution_count": 174,
   "metadata": {},
   "outputs": [
    {
     "name": "stdout",
     "output_type": "stream",
     "text": [
      "(100, 61, 64)\n"
     ]
    }
   ],
   "source": [
    "fnHit = os.path.join(pathHit,\"1_Subject_15_Sess_1_Ch_{}_hit.txt\".format(1)) # name file hit (first one)\n",
    "tensor_hit = np.loadtxt(fnHit,dtype='f',delimiter='\\t') # load hit matrix\n",
    "#plt.imshow(np.flipud(tensor_hit.transpose()))\n",
    "for indx in range(2,65):\n",
    "    fnHit = os.path.join(pathHit,\"1_Subject_15_Sess_1_Ch_{}_hit.txt\".format(indx)) # name file hit (following one)\n",
    "    newmat_hit = np.loadtxt(fnHit,dtype='f',delimiter='\\t') # load hit matrix\n",
    "    tensor_hit = np.dstack((tensor_hit,newmat_hit)) # stack matrix along the 3rd dimension \n",
    "\n",
    "print(tensor_hit.shape)"
   ]
  },
  {
   "cell_type": "markdown",
   "metadata": {},
   "source": [
    "### Load all the miss trials in a given electrode"
   ]
  },
  {
   "cell_type": "code",
   "execution_count": 149,
   "metadata": {},
   "outputs": [
    {
     "name": "stdout",
     "output_type": "stream",
     "text": [
      "(100, 61, 44)\n"
     ]
    }
   ],
   "source": [
    "fnMiss = os.path.join(pathMiss,\"1_Subject_15_Sess_1_Ch_{}_miss.txt\".format(1)) # name file miss (first one)\n",
    "tensor_miss = np.loadtxt(fnMiss,dtype='f',delimiter='\\t') # load miss matrix\n",
    "for indx in range(2,45):\n",
    "    fnMiss = os.path.join(pathMiss,\"1_Subject_15_Sess_1_Ch_{}_miss.txt\".format(indx)) # name file miss (following one)\n",
    "    newmat_miss = np.loadtxt(fnMiss,dtype='f',delimiter='\\t') # load hit matrix\n",
    "    tensor_miss = np.dstack((tensor_miss,newmat_miss)) \n",
    "    \n",
    "print(tensor_miss.shape)"
   ]
  },
  {
   "cell_type": "markdown",
   "metadata": {},
   "source": [
    "#### Merge all the hits and misses matrices together"
   ]
  },
  {
   "cell_type": "code",
   "execution_count": 150,
   "metadata": {},
   "outputs": [
    {
     "name": "stdout",
     "output_type": "stream",
     "text": [
      "(100, 61, 108)\n"
     ]
    },
    {
     "data": {
      "text/plain": [
       "(100, 61)"
      ]
     },
     "execution_count": 150,
     "metadata": {},
     "output_type": "execute_result"
    }
   ],
   "source": [
    "tensor_trial = np.dstack((tensor_hit,tensor_miss))\n",
    "print(tensor_trial.shape)\n",
    "tensor_trial[:,:,0].shape"
   ]
  },
  {
   "cell_type": "markdown",
   "metadata": {},
   "source": [
    "### Generate the labels"
   ]
  },
  {
   "cell_type": "code",
   "execution_count": 151,
   "metadata": {},
   "outputs": [
    {
     "name": "stdout",
     "output_type": "stream",
     "text": [
      "[1 1 1 1 1 1 1 1 1 1 1 1 1 1 1 1 1 1 1 1 1 1 1 1 1 1 1 1 1 1 1 1 1 1 1 1 1\n",
      " 1 1 1 1 1 1 1 1 1 1 1 1 1 1 1 1 1 1 1 1 1 1 1 1 1 1 1 0 0 0 0 0 0 0 0 0 0\n",
      " 0 0 0 0 0 0 0 0 0 0 0 0 0 0 0 0 0 0 0 0 0 0 0 0 0 0 0 0 0 0 0 0 0 0]\n",
      "(108,)\n"
     ]
    }
   ],
   "source": [
    "labels_hit = np.ones(64,dtype='i')\n",
    "labels_miss = np.zeros(44,dtype='i')\n",
    "labels_tot = np.concatenate((labels_hit,labels_miss),axis=None)\n",
    "print(labels_tot)\n",
    "print(labels_tot.shape)"
   ]
  },
  {
   "cell_type": "code",
   "execution_count": 152,
   "metadata": {},
   "outputs": [
    {
     "data": {
      "text/plain": [
       "torch.Size([100, 61])"
      ]
     },
     "execution_count": 152,
     "metadata": {},
     "output_type": "execute_result"
    }
   ],
   "source": [
    "matTorch = torch.from_numpy(matrix)\n",
    "matTorch.shape"
   ]
  },
  {
   "cell_type": "markdown",
   "metadata": {},
   "source": [
    "## Load data into a trainloader and testloader"
   ]
  },
  {
   "cell_type": "code",
   "execution_count": 153,
   "metadata": {
    "scrolled": true
   },
   "outputs": [],
   "source": [
    "train_data = []\n",
    "for i in range(len(labels_tot)):\n",
    "    train_data.append([tensor_trial[:,:,i], labels_tot[i]])\n",
    "\n",
    "trainloader = torch.utils.data.DataLoader(train_data, shuffle=True, batch_size=10)"
   ]
  },
  {
   "cell_type": "markdown",
   "metadata": {},
   "source": [
    "#### Create iterable "
   ]
  },
  {
   "cell_type": "code",
   "execution_count": 154,
   "metadata": {},
   "outputs": [
    {
     "name": "stdout",
     "output_type": "stream",
     "text": [
      "torch.Size([10])\n",
      "torch.Size([10, 100, 61])\n",
      "tensor([0, 1, 1, 0, 1, 1, 1, 1, 1, 0], dtype=torch.int32)\n"
     ]
    },
    {
     "data": {
      "image/png": "[encoded data removed]",
      "text/plain": [
       "<Figure size 432x288 with 1 Axes>"
      ]
     },
     "metadata": {
      "needs_background": "light"
     },
     "output_type": "display_data"
    }
   ],
   "source": [
    "images, labels = next(iter(trainloader))\n",
    "plt.imshow(np.flipud(images[0].numpy().transpose()))\n",
    "print(labels.shape)\n",
    "print(images.shape)\n",
    "print(labels)"
   ]
  },
  {
   "cell_type": "code",
   "execution_count": 155,
   "metadata": {},
   "outputs": [
    {
     "data": {
      "text/plain": [
       "torch.Size([10, 6100])"
      ]
     },
     "execution_count": 155,
     "metadata": {},
     "output_type": "execute_result"
    }
   ],
   "source": [
    "images.view(images.shape[0],-1).shape"
   ]
  },
  {
   "cell_type": "markdown",
   "metadata": {},
   "source": [
    "### Define the Network: Multilayer perceptron "
   ]
  },
  {
   "cell_type": "code",
   "execution_count": 3,
   "metadata": {},
   "outputs": [],
   "source": [
    "class FFN(nn.Module):\n",
    "    def __init__(self):\n",
    "        super().__init__()\n",
    "        \n",
    "        # linear layers\n",
    "        self.fc1 = nn.Linear(6100,762)\n",
    "        self.fc2 = nn.Linear(762, 381)\n",
    "        self.fc3 = nn.Linear(381,2)\n",
    "#         self.fc5 = nn.Linear(381,2)\n",
    "        \n",
    "        # Dropout module with 0.2 drop probability\n",
    "        self.dropout = nn.Dropout(p=0.2)    \n",
    "    \n",
    "    def forward(self,x):\n",
    "        \n",
    "        # flatten the input tensor \n",
    "        x = x.view(x.shape[0],-1)\n",
    "        \n",
    "        # activation functions\n",
    "        x = self.dropout(F.relu(self.fc1(x)))\n",
    "        x = self.dropout(F.relu(self.fc2(x)))\n",
    "#         x = self.dropout(F.relu(self.fc3(x)))\n",
    "#         x = F.relu(self.fc4(x))\n",
    "        x = F.log_softmax(self.fc3(x), dim=1)\n",
    "        \n",
    "        return x"
   ]
  },
  {
   "cell_type": "code",
   "execution_count": 4,
   "metadata": {},
   "outputs": [
    {
     "data": {
      "text/plain": [
       "FFN(\n",
       "  (fc1): Linear(in_features=6100, out_features=762, bias=True)\n",
       "  (fc2): Linear(in_features=762, out_features=381, bias=True)\n",
       "  (fc3): Linear(in_features=381, out_features=2, bias=True)\n",
       "  (dropout): Dropout(p=0.2, inplace=False)\n",
       ")"
      ]
     },
     "execution_count": 4,
     "metadata": {},
     "output_type": "execute_result"
    }
   ],
   "source": [
    "model = FFN()\n",
    "model"
   ]
  },
  {
   "cell_type": "markdown",
   "metadata": {},
   "source": [
    "### Set loss function and optimizer"
   ]
  },
  {
   "cell_type": "code",
   "execution_count": 5,
   "metadata": {},
   "outputs": [],
   "source": [
    "criterion = nn.NLLLoss()\n",
    "optimizer = optim.Adam(model.parameters(), lr = 0.01)"
   ]
  },
  {
   "cell_type": "markdown",
   "metadata": {},
   "source": [
    "#### Move model on GPU if available "
   ]
  },
  {
   "cell_type": "code",
   "execution_count": 6,
   "metadata": {},
   "outputs": [
    {
     "name": "stdout",
     "output_type": "stream",
     "text": [
      "CUDA is available!  Training on GPU ...\n"
     ]
    },
    {
     "data": {
      "text/plain": [
       "True"
      ]
     },
     "execution_count": 6,
     "metadata": {},
     "output_type": "execute_result"
    }
   ],
   "source": [
    "# check if CUDA is available\n",
    "train_on_gpu = torch.cuda.is_available()\n",
    "\n",
    "if not train_on_gpu:\n",
    "    print('CUDA is not available.  Training on CPU ...')\n",
    "else:\n",
    "    print('CUDA is available!  Training on GPU ...')\n",
    "\n",
    "# move tensors to GPU if CUDA is available\n",
    "if train_on_gpu:\n",
    "    model.cuda()\n",
    "next(model.parameters()).is_cuda"
   ]
  },
  {
   "cell_type": "markdown",
   "metadata": {},
   "source": [
    "## Train and validate the Network "
   ]
  },
  {
   "cell_type": "code",
   "execution_count": 167,
   "metadata": {},
   "outputs": [
    {
     "name": "stdout",
     "output_type": "stream",
     "text": [
      "Epoch: 1/20 Training loss: 0.056.. Test Loss: 0.677.. Test Accuracy: 0.591..\n",
      "Epoch: 2/20 Training loss: 0.069.. Test Loss: 0.676.. Test Accuracy: 0.593..\n",
      "Epoch: 3/20 Training loss: 0.069.. Test Loss: 0.678.. Test Accuracy: 0.586..\n",
      "Epoch: 4/20 Training loss: 0.060.. Test Loss: 0.677.. Test Accuracy: 0.591..\n",
      "Epoch: 5/20 Training loss: 0.056.. Test Loss: 0.676.. Test Accuracy: 0.593..\n",
      "Epoch: 6/20 Training loss: 0.052.. Test Loss: 0.676.. Test Accuracy: 0.593..\n",
      "Epoch: 7/20 Training loss: 0.064.. Test Loss: 0.677.. Test Accuracy: 0.589..\n",
      "Epoch: 8/20 Training loss: 0.065.. Test Loss: 0.675.. Test Accuracy: 0.595..\n",
      "Epoch: 9/20 Training loss: 0.061.. Test Loss: 0.675.. Test Accuracy: 0.595..\n",
      "Epoch: 10/20 Training loss: 0.064.. Test Loss: 0.676.. Test Accuracy: 0.593..\n",
      "Epoch: 11/20 Training loss: 0.060.. Test Loss: 0.675.. Test Accuracy: 0.595..\n",
      "Epoch: 12/20 Training loss: 0.061.. Test Loss: 0.678.. Test Accuracy: 0.586..\n",
      "Epoch: 13/20 Training loss: 0.056.. Test Loss: 0.675.. Test Accuracy: 0.595..\n",
      "Epoch: 14/20 Training loss: 0.069.. Test Loss: 0.675.. Test Accuracy: 0.595..\n",
      "Epoch: 15/20 Training loss: 0.056.. Test Loss: 0.677.. Test Accuracy: 0.591..\n",
      "Epoch: 16/20 Training loss: 0.074.. Test Loss: 0.676.. Test Accuracy: 0.593..\n",
      "Epoch: 17/20 Training loss: 0.056.. Test Loss: 0.676.. Test Accuracy: 0.593..\n",
      "Epoch: 18/20 Training loss: 0.065.. Test Loss: 0.675.. Test Accuracy: 0.595..\n",
      "Epoch: 19/20 Training loss: 0.060.. Test Loss: 0.678.. Test Accuracy: 0.586..\n",
      "Epoch: 20/20 Training loss: 0.060.. Test Loss: 0.674.. Test Accuracy: 0.598..\n"
     ]
    }
   ],
   "source": [
    "#######################\n",
    "#     TRAINING  \n",
    "######################\n",
    "\n",
    "model.train() # set the network in training mode\n",
    "\n",
    "epochs = 20\n",
    "train_losses, test_losses = [], []\n",
    "\n",
    "for epoch in range(epochs):\n",
    "    running_loss = 0\n",
    "    for images, labels in trainloader:\n",
    "        \n",
    "        if train_on_gpu: # move data on GPU\n",
    "            images, labels = images.cuda(), labels.cuda()\n",
    "            \n",
    "        # flatten images into a vector\n",
    "        labels = labels.long() # change label type from int to long \n",
    "        \n",
    "        # Clear the gradients\n",
    "        optimizer.zero_grad()\n",
    "        \n",
    "        log_ps = model(images) # forward pass\n",
    "        loss = criterion(log_ps,labels) # compute the loss\n",
    "        loss.backward() # backpropagate to compute the gradients\n",
    "        optimizer.step() # update the weights\n",
    "        \n",
    "        running_loss =+ loss.item()\n",
    "    \n",
    "    else:\n",
    "        \n",
    "        #######################\n",
    "        #     VALIDATION \n",
    "        ######################\n",
    " \n",
    "        test_loss = 0\n",
    "        accuracy = 0\n",
    "        with torch.no_grad(): # set the tracing of gradients to zero\n",
    "            model.eval() # set the dropout to OFF, i.e. model is in evaluation mode\n",
    "            \n",
    "            for images, labels in testloader:\n",
    "                \n",
    "                if train_on_gpu: # move data on GPU\n",
    "                    images, labels = images.cuda(), labels.cuda()\n",
    "                \n",
    "                 # flatten images into a vector\n",
    "                labels = labels.long() # change label type from int to long \n",
    "        \n",
    "                log_ps = model(images)\n",
    "                test_loss += criterion(log_ps,labels)\n",
    "                \n",
    "                ps = torch.exp(log_ps)\n",
    "                top_p, top_class = ps.topk(1, dim=1)                \n",
    "                equals = top_class == labels.view(*top_class.shape)\n",
    "                accuracy += torch.mean(equals.type(torch.FloatTensor)) \n",
    "                \n",
    "        model.train() # set the model back to train mode, i.e. dropout is ON\n",
    "        train_losses.append(running_loss/len(trainloader))\n",
    "        test_losses.append(test_loss/len(testloader))\n",
    "            \n",
    "            \n",
    "        ############################\n",
    "        # PRINT ACCURACTY AND LOSSES\n",
    "        ############################\n",
    "        \n",
    "        print(\"Epoch: {}/{}.. \".format(epoch+1, epochs),\n",
    "              \"Training Loss: {:.3f}.. \".format(running_loss/len(trainloader)),\n",
    "              \"Test Loss: {:.3f}.. \".format(test_loss/len(testloader)),\n",
    "              \"Test Accuracy: {:.3f}\".format(accuracy/len(testloader)))"
   ]
  },
  {
   "cell_type": "code",
   "execution_count": 102,
   "metadata": {},
   "outputs": [
    {
     "data": {
      "text/plain": [
       "tensor([1, 1, 1, 0, 1, 1, 1, 0, 0, 0], dtype=torch.int32)"
      ]
     },
     "execution_count": 102,
     "metadata": {},
     "output_type": "execute_result"
    }
   ],
   "source": [
    "labels"
   ]
  },
  {
   "cell_type": "markdown",
   "metadata": {},
   "source": [
    "### Other tests, not relevant "
   ]
  },
  {
   "cell_type": "code",
   "execution_count": 101,
   "metadata": {},
   "outputs": [
    {
     "name": "stdout",
     "output_type": "stream",
     "text": [
      "Label:  1\n",
      "Probability:   [[0.4318198  0.56818026]]\n"
     ]
    }
   ],
   "source": [
    "%matplotlib inline\n",
    "import helper\n",
    "\n",
    "images, labels = next(iter(trainloader))\n",
    "\n",
    "img = images[0].view(1, 6100) # Test only the first image\n",
    "model.cpu()\n",
    "#Turn off gradients to speed up this part\n",
    "with torch.no_grad():\n",
    "    logps = model(img)\n",
    "    \n",
    "\n",
    "#Output of the network are log-probabilities, need to take exponential for probabilities\n",
    "ps = torch.exp(logps)\n",
    "print('Label: ',labels[0].numpy()) # print the label corresponding to the first image\n",
    "print('Probability:  ',ps.numpy()) # print prob for 0 and 1 corresponding to the first layer\n",
    "\n",
    "# helper.view_classify(img.view(100,61), ps)"
   ]
  },
  {
   "cell_type": "code",
   "execution_count": 70,
   "metadata": {
    "collapsed": true
   },
   "outputs": [
    {
     "data": {
      "text/plain": [
       "<matplotlib.image.AxesImage at 0x7fd58cbb99e8>"
      ]
     },
     "execution_count": 70,
     "metadata": {},
     "output_type": "execute_result"
    },
    {
     "data": {
      "image/png": "[encoded data removed]",
      "text/plain": [
       "<Figure size 432x288 with 1 Axes>"
      ]
     },
     "metadata": {
      "needs_background": "light"
     },
     "output_type": "display_data"
    }
   ],
   "source": [
    "img.view(100,61).numpy()\n",
    "plt.imshow(np.flipud(img.view(100,61).numpy().transpose()))"
   ]
  },
  {
   "cell_type": "code",
   "execution_count": 103,
   "metadata": {},
   "outputs": [
    {
     "name": "stdout",
     "output_type": "stream",
     "text": [
      "tensor([[0.5682, 0.4318]])\n",
      "tensor([[1, 0]])\n"
     ]
    }
   ],
   "source": [
    "top_p, top_class = ps.topk(2, dim=1)\n",
    "print(top_p)\n",
    "print(top_class)\n",
    "print"
   ]
  },
  {
   "cell_type": "code",
   "execution_count": 112,
   "metadata": {},
   "outputs": [
    {
     "data": {
      "text/plain": [
       "False"
      ]
     },
     "execution_count": 112,
     "metadata": {},
     "output_type": "execute_result"
    }
   ],
   "source": [
    "next(model.parameters()).is_cuda"
   ]
  },
  {
   "cell_type": "code",
   "execution_count": 126,
   "metadata": {},
   "outputs": [
    {
     "name": "stdout",
     "output_type": "stream",
     "text": [
      "tensor([[0.4565, 0.5435],\n",
      "        [0.4446, 0.5554],\n",
      "        [0.4643, 0.5357],\n",
      "        [0.4559, 0.5441],\n",
      "        [0.4648, 0.5352],\n",
      "        [0.4752, 0.5248],\n",
      "        [0.4576, 0.5424],\n",
      "        [0.4795, 0.5205],\n",
      "        [0.4576, 0.5424],\n",
      "        [0.4570, 0.5430]])\n",
      "tensor([1, 0, 1, 1, 0, 0, 1, 1, 0, 0], dtype=torch.int32)\n"
     ]
    }
   ],
   "source": [
    "images, labels = next(iter(trainloader))\n",
    "with torch.no_grad():\n",
    "    logps = model(images)\n",
    "    \n",
    "ps = torch.exp(logps)\n",
    "print(ps)\n",
    "print(labels)"
   ]
  },
  {
   "cell_type": "code",
   "execution_count": 124,
   "metadata": {},
   "outputs": [
    {
     "name": "stdout",
     "output_type": "stream",
     "text": [
      "tensor([[1],\n",
      "        [1],\n",
      "        [1],\n",
      "        [1],\n",
      "        [1],\n",
      "        [1],\n",
      "        [1],\n",
      "        [1],\n",
      "        [1],\n",
      "        [1]])\n"
     ]
    }
   ],
   "source": [
    "top_p, top_class = ps.topk(1, dim=1)\n",
    "# Look at the most likely classes for the first 10 examples\n",
    "print(top_class[:10,:])"
   ]
  },
  {
   "cell_type": "code",
   "execution_count": 134,
   "metadata": {},
   "outputs": [
    {
     "name": "stdout",
     "output_type": "stream",
     "text": [
      "tensor([[ True],\n",
      "        [False],\n",
      "        [ True],\n",
      "        [ True],\n",
      "        [False],\n",
      "        [False],\n",
      "        [ True],\n",
      "        [ True],\n",
      "        [False],\n",
      "        [False]])\n"
     ]
    }
   ],
   "source": [
    "equals = top_class == labels.view(*top_class.shape)\n",
    "print(equals)"
   ]
  },
  {
   "cell_type": "code",
   "execution_count": 135,
   "metadata": {},
   "outputs": [
    {
     "name": "stdout",
     "output_type": "stream",
     "text": [
      "Accuracy: 50.0%\n"
     ]
    }
   ],
   "source": [
    "accuracy = torch.mean(equals.type(torch.FloatTensor))\n",
    "print(f'Accuracy: {accuracy.item()*100}%')"
   ]
  },
  {
   "cell_type": "code",
   "execution_count": null,
   "metadata": {},
   "outputs": [],
   "source": []
  }
 ],
 "metadata": {
  "kernelspec": {
   "display_name": "Python 3",
   "language": "python",
   "name": "python3"
  },
  "language_info": {
   "codemirror_mode": {
    "name": "ipython",
    "version": 3
   },
   "file_extension": ".py",
   "mimetype": "text/x-python",
   "name": "python",
   "nbconvert_exporter": "python",
   "pygments_lexer": "ipython3",
   "version": "3.7.3"
  }
 },
 "nbformat": 4,
 "nbformat_minor": 2
}
